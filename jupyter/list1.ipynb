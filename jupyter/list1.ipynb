{
 "cells": [
  {
   "cell_type": "markdown",
   "source": [
    "# Lista 1\n",
    "\n",
    "## Kurs wybranego języka programowania (Python)\n",
    "\n",
    "Wszystkie rozwiązania proszę wpisać w tym notatniku poniżej treści zadań. Zadania z `*` to zadania dodatkowe."
   ],
   "metadata": {
    "collapsed": false
   }
  },
  {
   "cell_type": "markdown",
   "source": [
    "## Zadanie 1 _(5pt)_\n",
    "\n",
    "Napisz funkcję, który wyświetla trójkąt Pascala o zadanej wysokości\n",
    "```\n",
    "                1\n",
    "              1   1\n",
    "            1   2   1\n",
    "          1   3   3   1\n",
    "        1   4   6   4   1\n",
    "      .....................\n",
    "```"
   ],
   "metadata": {
    "collapsed": false
   }
  },
  {
   "cell_type": "code",
   "execution_count": 53,
   "outputs": [
    {
     "name": "stdout",
     "text": [
      "          1\n         1 1\n        1 2 1\n       1 3 3 1\n      1 4 6 4 1\n     1 5 10 10 5 1\n    1 6 15 20 15 6 1\n   1 7 21 35 35 21 7 1\n  1 8 28 56 70 56 28 8 1\n 1 9 36 84 126 126 84 36 9 1\n"
     ],
     "output_type": "stream"
    }
   ],
   "source": [
    "from typing import *\n",
    "from itertools import islice\n",
    "\n",
    "def pascal_triangle(n):\n",
    "    rows = [ [1] for _ in range(n) ]\n",
    "    if n <= 0:\n",
    "        return \n",
    "    print(\" \"*n + \"1\")\n",
    "    for i in range(1, len(rows)):\n",
    "        rows[i].extend( x + y for x, y in zip(islice(rows[i-1], 1, None), rows[i-1]))\n",
    "        rows[i].append(1)\n",
    "        \n",
    "        print(\n",
    "            \" \" * (n - i) + \n",
    "            \" \".join(str(r) for r in rows[i])\n",
    "        )\n",
    "\n",
    "pascal_triangle(10)"
   ],
   "metadata": {
    "collapsed": false,
    "pycharm": {
     "name": "#%%\n",
     "is_executing": false
    }
   }
  },
  {
   "cell_type": "markdown",
   "source": [
    "## Zadanie 2 _(5pt)_\n",
    "\n",
    "Napisz funkcję `primes(n)` zwracająca listę liczb pierwszych nie większych niż $n$ np.\n",
    "\n",
    "```\n",
    "In [ ]:   primes(6)\n",
    "Out [ ]: [2, 3, 5]\n",
    "```"
   ],
   "metadata": {
    "collapsed": false
   }
  },
  {
   "cell_type": "code",
   "execution_count": 119,
   "outputs": [
    {
     "name": "stdout",
     "text": [
      "[2, 3, 5]\n"
     ],
     "output_type": "stream"
    }
   ],
   "source": [
    "from math import ceil, sqrt\n",
    "\n",
    "def primes(n):\n",
    "    primes_table = 2 * [False] + n * [True]\n",
    "    for p in range(2, ceil(sqrt(n))):\n",
    "        q = p * p\n",
    "        if q > n:\n",
    "            break\n",
    "        if primes_table[p]:\n",
    "            for i in range(q, n+1, p):\n",
    "                primes_table[i] = False\n",
    "    return [i for i in range(1, n+1) if primes_table[i]]\n",
    "\n",
    "print(list(primes(6)))\n"
   ],
   "metadata": {
    "collapsed": false,
    "pycharm": {
     "name": "#%%\n",
     "is_executing": false
    }
   }
  },
  {
   "cell_type": "markdown",
   "source": [
    "## Zadanie 3 _(5pt)_\n",
    "\n",
    "Napisz funkcje, która usuwa wszystkie powtarzające się elementy z listy (tak, że każdy element występuje tylko raz) np. z listy `[1,1,2,2,2,3,3,5,5,5,4,4,4,0]` dostajemy `[1,2,3,5,4,0]`."
   ],
   "metadata": {
    "collapsed": false
   }
  },
  {
   "cell_type": "code",
   "execution_count": 92,
   "outputs": [
    {
     "name": "stdout",
     "text": [
      "{0, 1, 2, 3, 4, 5}\n"
     ],
     "output_type": "stream"
    }
   ],
   "source": [
    "\n",
    "def remove_duplicates(x: list):\n",
    "    seen = set()\n",
    "    for element in x:\n",
    "        if element not in seen:\n",
    "            seen.add(element)\n",
    "    print(seen)\n",
    "    \n",
    "remove_duplicates([1,1,2,2,2,3,3,5,5,5,4,4,4,0,1] )"
   ],
   "metadata": {
    "collapsed": false,
    "pycharm": {
     "name": "#%%\n",
     "is_executing": false
    }
   }
  },
  {
   "cell_type": "markdown",
   "source": [
    "## Zadanie 4 _(10pt)_\n",
    "\n",
    "Napisz funkcję `prime_factors(n)`, która rozkłada $n$ na czynniki pierwsze i jako wynik wraca listę par $[(p_1,\\alpha_1), (p_2,\\alpha_2), \\ldots, (p_k, \\alpha_k)]$ taką, że $p_1^{\\alpha_1}p_2^{\\alpha_2}\\ldots p_k^{\\alpha_k}$.\n"
   ],
   "metadata": {
    "collapsed": false
   }
  },
  {
   "cell_type": "code",
   "execution_count": 128,
   "outputs": [
    {
     "name": "stdout",
     "text": [
      "[(2, 2), (43, 1)]\n"
     ],
     "output_type": "stream"
    }
   ],
   "source": [
    "\n",
    "def prime_factors(n):\n",
    "    for prime in primes(n):\n",
    "        count = 0\n",
    "        while n % prime == 0:\n",
    "            n /= prime\n",
    "            count += 1\n",
    "        if count > 0:\n",
    "            yield (prime, count)\n",
    "                \n",
    "print(list(prime_factors(172)))\n"
   ],
   "metadata": {
    "collapsed": false,
    "pycharm": {
     "name": "#%%\n",
     "is_executing": false
    }
   }
  },
  {
   "cell_type": "markdown",
   "source": [
    "## Zadanie 5 _(10pt)_\n",
    "\n",
    "Napisz funkcję `factzero(n)` liczącą silnie $n!$ dla $n$ od $0$ do $10000$ oraz jako wynik zwraca liczbę zer na końcu $n!$."
   ],
   "metadata": {
    "collapsed": false
   }
  },
  {
   "cell_type": "code",
   "execution_count": 129,
   "outputs": [
    {
     "name": "stdout",
     "text": [
      "31\n"
     ],
     "output_type": "stream"
    }
   ],
   "source": [
    "def factzero(n):\n",
    "    zeros = 0\n",
    "    while n > 0:\n",
    "        n //= 5\n",
    "        zeros += n\n",
    "    return zeros\n",
    "\n",
    "print(factzero(125))"
   ],
   "metadata": {
    "collapsed": false,
    "pycharm": {
     "name": "#%%\n",
     "is_executing": false
    }
   }
  },
  {
   "cell_type": "markdown",
   "source": [
    "## Zadanie 6 _(10pt)_\n",
    "\n",
    "Napisz program, który generuje liczbę $20$ liczb losowych (rozkład jednostajny) od $1$ do $100$\n",
    "* Wyświetl listę wygenerowanych liczb\n",
    "* Wyświetl średnią\n",
    "* Wyświetl największą i najmniejszą wartość\n",
    "* Wyświetl drugą największą i drugą najmniejszą wartość na liście\n",
    "* Wyświetl ile jest liczb parzystych na liście\n",
    " "
   ],
   "metadata": {
    "collapsed": false
   }
  },
  {
   "cell_type": "code",
   "execution_count": 3,
   "outputs": [
    {
     "name": "stdout",
     "text": [
      "Numbers: [11, 69, 19, 47, 23, 56, 3, 76, 21, 13, 16, 52, 23, 37, 85, 27, 97, 10, 93, 17]\nMean: 39.75\nMin and max: 3 and 97\n2nd min and max: 10 and 93\nCount of even numbers: 5\n"
     ],
     "output_type": "stream"
    }
   ],
   "source": [
    "from random import randint\n",
    "from statistics import mean\n",
    "\n",
    "numbers = [ randint(1,100) for i in range(20) ]\n",
    "\n",
    "print(f\"Numbers: {numbers}\")\n",
    "print(f\"Mean: {mean(numbers)}\")\n",
    "print(f\"Min and max: {min(numbers)} and {max(numbers)}\")\n",
    "print(f\"2nd min and max: {sorted(set(numbers))[1]} and {sorted(set(numbers))[-2]}\")\n",
    "print(f\"Count of even numbers: {sum(1 for i in numbers if i%2 == 0)}\")"
   ],
   "metadata": {
    "collapsed": false,
    "pycharm": {
     "name": "#%%\n",
     "is_executing": false
    }
   }
  },
  {
   "cell_type": "markdown",
   "source": [
    "## Zadanie 7 _(10pt)_\n",
    "\n",
    "Załóżmy, że mamy następującą listę: `L = ['aababacaa', 'cabaabcca', 'aaabbcbacb', 'acababbaab', ...]` wygenerowaną losowo tzn. lista zawiera losowe ciągi znaków o zadanej długości z liter `'a'`, `'b'` i `'c'`. Takie wzorce występują w wielu miejscach np. sekwencje DNA. Użytkownik zawiera swój (wzorzec) ciąg znaków z literami i pustymi miejscami oznaczonymi przez `'*'` np. `\"a**a******\"`. Wykorzystaj słownik z kluczami zawierającymi indeksy znaków różnych od `'*'` i wartościami liter z wzorca. Napisz program, który znajduje wszystkie sekwencje z listy, które pasuje do podanego wzorca."
   ],
   "metadata": {
    "collapsed": false
   }
  },
  {
   "cell_type": "code",
   "execution_count": 140,
   "outputs": [
    {
     "name": "stdout",
     "text": [
      "{0: 'a', 3: 'a'}\n['aababacaa', 'abcabcbbba', 'accaacacab']\n"
     ],
     "output_type": "stream"
    }
   ],
   "source": [
    "from typing import List\n",
    "\n",
    "L = ['aababacaa', 'cabaabcca', 'abcabcbbba', 'aaabbcbacb', 'acababbaab', 'accaacacab']\n",
    "def sequence_matcher(sequence_pattern: str, data: List[str]):\n",
    "    tuples = [ (i, letter) for i, letter in enumerate(sequence_pattern) if letter != \"*\"]\n",
    "    indices = dict(tuples)\n",
    "    result = [ sequence for sequence in data if \n",
    "        all(sequence[i] == letter for i, letter in indices.items()) ]\n",
    "    return result\n",
    "\n",
    "print(sequence_matcher(\"a**a******\", L))"
   ],
   "metadata": {
    "collapsed": false,
    "pycharm": {
     "name": "#%%\n",
     "is_executing": false
    }
   }
  },
  {
   "cell_type": "markdown",
   "source": [
    "## Zadanie 8 _(10pt)_\n",
    "\n",
    "Napisz program, który konwerteruje liczby rzymskie na liczby arabskie. Do zapisu liczb rzymskich używa\n",
    "się 7 liter: `I=1`, `V=5`, `X=10`, `L=50`, `C=100`, `D=500`, `M=1000`. Opis algorytmu zamiany z i na system rzymski można znaleźć np. [tutaj](http://www.algorytm.org/algorytmy-arytmetyczne/zamiana-z-i-na-system-rzymski.html)"
   ],
   "metadata": {
    "collapsed": false
   }
  },
  {
   "cell_type": "code",
   "execution_count": 13,
   "outputs": [
    {
     "data": {
      "text/plain": "38"
     },
     "metadata": {},
     "output_type": "execute_result",
     "execution_count": 13
    }
   ],
   "source": [
    "\n",
    "def roman_to_arabic(value_in_roman):\n",
    "    roman_symbols = {\"I\": 1, \"V\": 5, \"X\": 10, \"L\": 50, \"C\": 100, \"D\": 500, \"M\": 1000}\n",
    "    value_in_arabic = 0\n",
    "    for i, r in enumerate(value_in_roman):\n",
    "        if i == len(value_in_roman) - 1 or roman_symbols[r] >= roman_symbols[value_in_roman[i + 1]]:\n",
    "            value_in_arabic += roman_symbols[r]\n",
    "        else:\n",
    "            value_in_arabic -= roman_symbols[r]\n",
    "\n",
    "    return value_in_arabic\n",
    "\n",
    "roman_to_arabic(\"MMMCMXCIX\")\n",
    "\n",
    "# zarzniete z tej strony w poleceniu bo mi sie nie chcialo tego drugi raz robic\n",
    "\n",
    "arabic = [1000, 500, 100, 50, 10, 5, 1]\n",
    "roman = ['M', 'D', 'C', 'L', 'X', 'V', 'I']\n",
    "def arabic2roman(number):\n",
    "    i = 0 #position in arabic and roman array\n",
    "    result = \"\"\n",
    "    if number > 3999 or number <= 0:\n",
    "        return result\n",
    "    \n",
    "     \n",
    "    while number > 0 and i < len(arabic):\n",
    "        if number >= arabic[i]:\n",
    "            number -= arabic[i]\n",
    "            result += roman[i]\n",
    "\n",
    "        elif i%2 == 0 and \\\n",
    "            i<len(arabic)-2 and \\\n",
    "            number >= arabic[i] - arabic[i+2] and \\\n",
    "            arabic[i+2] != arabic[i] - arabic[i+2]:\n",
    "            number -= arabic[i] - arabic[i+2]\n",
    "            result += roman[i+2]\n",
    "            result += roman[i]\n",
    "            i+=1 \n",
    "        elif i%2 == 1 and \\\n",
    "            i<len(arabic)-1 and \\\n",
    "            number >= arabic[i] - arabic[i+1] and \\\n",
    "            arabic[i+1] != arabic[i] - arabic[i+1]:\n",
    "        \n",
    "            number -= arabic[i] - arabic[i+1]\n",
    "            result += roman[i+1]\n",
    "            result += roman[i]\n",
    "            i+=1\n",
    "        else:\n",
    "            i+=1\n",
    "            \n",
    "    return result\n",
    "    \n",
    " \n",
    "#Converts roman <number> to arabic\n",
    "#Returns <result> or -1, if an ERROR occurs.\n",
    "def roman2arabic(number):\n",
    "    i = 0 #position in arabic and roman arrays\n",
    "    j = 0 #position in number\n",
    "    result = 0\n",
    "     \n",
    "    length = len(number)\n",
    "     \n",
    "    while j<length and i<len(arabic):\n",
    "    \n",
    "        if number[j] == roman[i]:\n",
    "            result += arabic[i]\n",
    "            j+=1\n",
    "    \n",
    "        elif i%2 == 0 and \\\n",
    "            i<len(arabic)-2 and \\\n",
    "            j<length-1 and \\\n",
    "            number[j] == roman[i+2] and \\\n",
    "            number[j+1] == roman[i]:\n",
    "            result += arabic[i] - arabic[i+2]\n",
    "            j += 2\n",
    "            i+=1\n",
    "        \n",
    "        elif i%2 == 1 and \\\n",
    "            i<len(arabic)-1 and \\\n",
    "            j<length-1 and \\\n",
    "            number[j] == roman[i+1] and \\\n",
    "            number[j+1] == roman[i]:\n",
    "            result += arabic[i] - arabic[i+1]\n",
    "            j += 2\n",
    "            i+=1\n",
    "        else:\n",
    "            i+=1\n",
    "\n",
    "        if i == len(arabic):\n",
    "            result = -1\n",
    "    return result\n",
    "\n",
    "roman2arabic(\"XXXVIII\")"
   ],
   "metadata": {
    "collapsed": false,
    "pycharm": {
     "name": "#%%\n",
     "is_executing": false
    }
   }
  },
  {
   "cell_type": "markdown",
   "source": [
    "## Zadanie 9* _(5pt)_\n",
    "\n",
    "Napisz program kalkulator, który pobiera wprowadzone wartości oraz funkcje z klawiatury następnie podaje wynik. W przypadku błędnych danych zgłasza błąd.\n",
    "\n",
    "Przykładowa sesja:\n",
    "```\n",
    "    Kalkulator\n",
    "    [1]: 2+5*10\n",
    "        52\n",
    "    [2]: sin(0.5)+cos(0.3)\n",
    "        1.434762027729809\n",
    "    [3]: 2^100\n",
    "        1267650600228229401496703205376\n",
    "```\n",
    "\n",
    "Przykładowy kod pobierania danych od użytkownika:\n",
    "\n",
    "```\n",
    "    x = input('Podaj x = ')\n",
    "```"
   ],
   "metadata": {
    "collapsed": false
   }
  },
  {
   "cell_type": "code",
   "execution_count": 16,
   "outputs": [
    {
     "data": {
      "text/plain": "128"
     },
     "metadata": {},
     "output_type": "execute_result",
     "execution_count": 16
    }
   ],
   "source": [
    "from math import *\n",
    "# while True:\n",
    "eval(input(\"Enter an expression: \").replace(\"^\", \"**\"))"
   ],
   "metadata": {
    "collapsed": false,
    "pycharm": {
     "name": "#%%\n",
     "is_executing": false
    }
   }
  },
  {
   "cell_type": "markdown",
   "source": [
    "\n",
    "## Zadanie 10* _(10pt)_\n",
    "\n",
    "Napisz program, który rysuje na ekranie w trybie znakowym wykres funkcji zmiennej $x$. Wskazówka: utwórz  ,,tablicę dwuwymiarową'' o wymiarach 80x24 i narysuj wykres w tej tablicy. Następnie wynik wyświetl na ekranie.\n",
    "\n",
    "```\n",
    "        Podaj funkcje f(x) = sin(x)\n",
    "        Podaj początek przedziału a = -pi\n",
    "        Podaj koniec przedziału b = pi\n",
    "                                                |\n",
    "                                                |\n",
    "                                                |              ***********\n",
    "                                                |           ***           ***\n",
    "                                                |         **                 **\n",
    "                                                |        *                     *\n",
    "                                                |      **                       **\n",
    "                                                |     *                           *\n",
    "                                                |   **                             **\n",
    "                                                |  *                                 *\n",
    "                                                | *                                   *\n",
    "                                                |*                                     *\n",
    "        ----------------------------------------|---------------------------------------\n",
    "          *                                   * |\n",
    "           *                                 *  |\n",
    "            **                             **   |\n",
    "              *                           *     |\n",
    "               **                       **      |\n",
    "                 *                     *        |\n",
    "                  **                 **         |\n",
    "                    ***           ***           |\n",
    "                       ***** *****              |\n",
    "                            *                   |\n",
    "                                                |\n",
    "```"
   ],
   "metadata": {
    "collapsed": false
   }
  },
  {
   "cell_type": "code",
   "execution_count": null,
   "outputs": [],
   "source": [],
   "metadata": {
    "collapsed": false,
    "pycharm": {
     "name": "#%%\n"
    }
   }
  }
 ],
 "metadata": {
  "language_info": {
   "codemirror_mode": {
    "name": "ipython",
    "version": 2
   },
   "file_extension": ".py",
   "mimetype": "text/x-python",
   "name": "python",
   "nbconvert_exporter": "python",
   "pygments_lexer": "ipython2",
   "version": "2.7.6"
  },
  "kernelspec": {
   "name": "python3",
   "language": "python",
   "display_name": "Python 3"
  },
  "pycharm": {
   "stem_cell": {
    "cell_type": "raw",
    "source": [],
    "metadata": {
     "collapsed": false
    }
   }
  }
 },
 "nbformat": 4,
 "nbformat_minor": 0
}